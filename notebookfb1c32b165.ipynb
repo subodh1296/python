{
 "cells": [
  {
   "cell_type": "code",
   "execution_count": 1,
   "id": "40d69ff4",
   "metadata": {
    "_cell_guid": "b1076dfc-b9ad-4769-8c92-a6c4dae69d19",
    "_uuid": "8f2839f25d086af736a60e9eeb907d3b93b6e0e5",
    "execution": {
     "iopub.execute_input": "2024-09-11T10:25:28.022963Z",
     "iopub.status.busy": "2024-09-11T10:25:28.021752Z",
     "iopub.status.idle": "2024-09-11T10:25:28.519360Z",
     "shell.execute_reply": "2024-09-11T10:25:28.517807Z"
    },
    "papermill": {
     "duration": 0.505404,
     "end_time": "2024-09-11T10:25:28.522545",
     "exception": false,
     "start_time": "2024-09-11T10:25:28.017141",
     "status": "completed"
    },
    "tags": []
   },
   "outputs": [
    {
     "name": "stdout",
     "output_type": "stream",
     "text": [
      "/kaggle/input/carseats/Carseats.csv\n"
     ]
    }
   ],
   "source": [
    "# This Python 3 environment comes with many helpful analytics libraries installed\n",
    "# It is defined by the kaggle/python Docker image: https://github.com/kaggle/docker-python\n",
    "# For example, here's several helpful packages to load\n",
    "\n",
    "import numpy as np # linear algebra\n",
    "import pandas as pd # data processing, CSV file I/O (e.g. pd.read_csv)\n",
    "\n",
    "# Input data files are available in the read-only \"../input/\" directory\n",
    "# For example, running this (by clicking run or pressing Shift+Enter) will list all files under the input directory\n",
    "\n",
    "import os\n",
    "for dirname, _, filenames in os.walk('/kaggle/input'):\n",
    "    for filename in filenames:\n",
    "        print(os.path.join(dirname, filename))\n",
    "\n",
    "# You can write up to 20GB to the current directory (/kaggle/working/) that gets preserved as output when you create a version using \"Save & Run All\" \n",
    "# You can also write temporary files to /kaggle/temp/, but they won't be saved outside of the current session"
   ]
  },
  {
   "cell_type": "code",
   "execution_count": 2,
   "id": "1f2bfbe9",
   "metadata": {
    "execution": {
     "iopub.execute_input": "2024-09-11T10:25:28.529495Z",
     "iopub.status.busy": "2024-09-11T10:25:28.528922Z",
     "iopub.status.idle": "2024-09-11T10:25:28.535279Z",
     "shell.execute_reply": "2024-09-11T10:25:28.534000Z"
    },
    "papermill": {
     "duration": 0.014036,
     "end_time": "2024-09-11T10:25:28.539240",
     "exception": false,
     "start_time": "2024-09-11T10:25:28.525204",
     "status": "completed"
    },
    "tags": []
   },
   "outputs": [
    {
     "name": "stdout",
     "output_type": "stream",
     "text": [
      "ok\n"
     ]
    }
   ],
   "source": [
    "print('ok')"
   ]
  }
 ],
 "metadata": {
  "kaggle": {
   "accelerator": "none",
   "dataSources": [
    {
     "datasetId": 615071,
     "sourceId": 1099812,
     "sourceType": "datasetVersion"
    }
   ],
   "dockerImageVersionId": 30761,
   "isGpuEnabled": false,
   "isInternetEnabled": true,
   "language": "python",
   "sourceType": "notebook"
  },
  "kernelspec": {
   "display_name": "Python 3",
   "language": "python",
   "name": "python3"
  },
  "language_info": {
   "codemirror_mode": {
    "name": "ipython",
    "version": 3
   },
   "file_extension": ".py",
   "mimetype": "text/x-python",
   "name": "python",
   "nbconvert_exporter": "python",
   "pygments_lexer": "ipython3",
   "version": "3.10.14"
  },
  "papermill": {
   "default_parameters": {},
   "duration": 4.383789,
   "end_time": "2024-09-11T10:25:29.064258",
   "environment_variables": {},
   "exception": null,
   "input_path": "__notebook__.ipynb",
   "output_path": "__notebook__.ipynb",
   "parameters": {},
   "start_time": "2024-09-11T10:25:24.680469",
   "version": "2.6.0"
  }
 },
 "nbformat": 4,
 "nbformat_minor": 5
}
